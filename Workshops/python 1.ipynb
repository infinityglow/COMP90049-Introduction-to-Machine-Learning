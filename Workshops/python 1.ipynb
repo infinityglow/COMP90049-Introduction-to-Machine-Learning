{
 "cells": [
  {
   "cell_type": "markdown",
   "metadata": {},
   "source": [
    "### The University of Melbourne, School of Computing and Information Systems\n",
    "# COMP90049 Introduction Machine Learning, 2020 Semester 2\n",
    "\n",
    "## Week 2 - Introduction"
   ]
  },
  {
   "cell_type": "markdown",
   "metadata": {},
   "source": [
    "Welcome to Jupyter Notebook—an interactive environment that mixes code, visualisations and text.\n",
    "\n",
    "Jupyter Notebook supports many programming languages (called \"kernels\" in the Jupyter lingo). In this course, we'll mainly be using Python 3 due to its popularity in the machine learning/data science communities. Information about the kernel is diplayed in the top right of the UI."
   ]
  },
  {
   "cell_type": "markdown",
   "metadata": {},
   "source": [
    "## Cells"
   ]
  },
  {
   "cell_type": "markdown",
   "metadata": {},
   "source": [
    "Notebooks are made up cells: *markdown cells* and *code cells*. \n",
    "This cell is an example of a markdown cell. \n",
    "Markdown cells can contain text, tables, images, equations, etc. \n",
    "(see the Markdown guide under the _Help_ menu for more info). \n",
    "\n",
    "You can edit a markdown cell by double-clicking on it. To convert cells to markdown, highlight the cell and hit `<M>`. To convert back to a code cell, hit `<Y>`.\n",
    "\n",
    "To evaluate the cell press the <button class='btn btn-default btn-xs'><i class=\"icon-step-forward fa fa-step-forward\"></i></button> button in the toolbar, or hit `<CTRL>+<ENTER>`. \n",
    "Try it below! "
   ]
  },
  {
   "cell_type": "markdown",
   "metadata": {},
   "source": [
    "--- **Edit me** ---"
   ]
  },
  {
   "cell_type": "markdown",
   "metadata": {},
   "source": [
    "Next are some code cells. \n",
    "You can evaluate them individually, using the <button class='btn btn-default btn-xs'><i class=\"icon-step-forward fa fa-step-forward\"></i></button> button or by hitting `<CTRL>+<ENTER>`. \n",
    "Often, you'll want to run all cells in the notebook, or below a certain point. The functions for doing this are in the _Cell_ menu."
   ]
  },
  {
   "cell_type": "code",
   "execution_count": 1,
   "metadata": {},
   "outputs": [],
   "source": [
    "message = \"Hello world!\""
   ]
  },
  {
   "cell_type": "code",
   "execution_count": 2,
   "metadata": {},
   "outputs": [
    {
     "name": "stdout",
     "output_type": "stream",
     "text": [
      "Hello world!\n"
     ]
    }
   ],
   "source": [
    "print(message)"
   ]
  },
  {
   "cell_type": "markdown",
   "metadata": {},
   "source": [
    "Please ensure that the scipy, numpy, matplotlib, and sklearn packages are installed (although we won’t be\n",
    "using the latter two today)."
   ]
  },
  {
   "cell_type": "code",
   "execution_count": 4,
   "metadata": {},
   "outputs": [],
   "source": [
    "import scipy\n",
    "import numpy as np \n",
    "import matplotlib as mpl\n",
    "import sklearn"
   ]
  },
  {
   "cell_type": "markdown",
   "metadata": {},
   "source": [
    "(You might wish to examine the installation instructions at http://scipy.org/install.html\n",
    "if you are considering using your local machine.)"
   ]
  },
  {
   "cell_type": "markdown",
   "metadata": {},
   "source": [
    "## NumPy Basics\n",
    "\n",
    "The main numpy object is a so-called “homogeneous multidimensional array” — note that this is a little less flexible than using a list or tuple, but it allows mathematical operations to be performed much faster. (And we’ll be doing a fair bit of number-crunching this semester, so this is an important property.) The following is an introduction to NumPy functions and properties."
   ]
  },
  {
   "cell_type": "markdown",
   "metadata": {},
   "source": [
    "### Creating Arrays"
   ]
  },
  {
   "cell_type": "code",
   "execution_count": 5,
   "metadata": {},
   "outputs": [],
   "source": [
    "a = np.array([0, 1, 2, 3, 4])\n",
    "b = np.array([[0, 1, 2, 3, 4], [5, 6, 7, 8, 9]], dtype = float)\n",
    "c = np.array([[1, 6], [2, 7], [3, 8], [4, 9], [5, 10]], dtype = int)"
   ]
  },
  {
   "cell_type": "code",
   "execution_count": 6,
   "metadata": {},
   "outputs": [
    {
     "data": {
      "text/plain": [
       "array([0, 1, 2, 3, 4, 5, 6, 7, 8, 9])"
      ]
     },
     "execution_count": 6,
     "metadata": {},
     "output_type": "execute_result"
    }
   ],
   "source": [
    "np.arange(0, 10)     # array of evenly spaced values"
   ]
  },
  {
   "cell_type": "code",
   "execution_count": 7,
   "metadata": {},
   "outputs": [
    {
     "data": {
      "text/plain": [
       "array([[0., 0., 0.],\n",
       "       [0., 0., 0.]])"
      ]
     },
     "execution_count": 7,
     "metadata": {},
     "output_type": "execute_result"
    }
   ],
   "source": [
    "np.zeros((2, 3))     # array of zeros with the given shape"
   ]
  },
  {
   "cell_type": "code",
   "execution_count": 8,
   "metadata": {},
   "outputs": [
    {
     "data": {
      "text/plain": [
       "array([1., 1.])"
      ]
     },
     "execution_count": 8,
     "metadata": {},
     "output_type": "execute_result"
    }
   ],
   "source": [
    "np.ones(2)           # array of ones with the given shape"
   ]
  },
  {
   "cell_type": "code",
   "execution_count": 9,
   "metadata": {},
   "outputs": [
    {
     "data": {
      "text/plain": [
       "array([[0., 0., 0.],\n",
       "       [0., 0., 0.]])"
      ]
     },
     "execution_count": 9,
     "metadata": {},
     "output_type": "execute_result"
    }
   ],
   "source": [
    "np.empty((2, 3))     # empty array (arbitrary values)"
   ]
  },
  {
   "cell_type": "code",
   "execution_count": 10,
   "metadata": {},
   "outputs": [
    {
     "data": {
      "text/plain": [
       "array([[3, 3, 3],\n",
       "       [3, 3, 3]])"
      ]
     },
     "execution_count": 10,
     "metadata": {},
     "output_type": "execute_result"
    }
   ],
   "source": [
    "np.full((2, 3), 3)   # fill new array with given shape"
   ]
  },
  {
   "cell_type": "markdown",
   "metadata": {},
   "source": [
    "### Inspecting an array"
   ]
  },
  {
   "cell_type": "code",
   "execution_count": 11,
   "metadata": {},
   "outputs": [
    {
     "data": {
      "text/plain": [
       "10"
      ]
     },
     "execution_count": 11,
     "metadata": {},
     "output_type": "execute_result"
    }
   ],
   "source": [
    "b.size               # number of elements in the array"
   ]
  },
  {
   "cell_type": "code",
   "execution_count": 12,
   "metadata": {},
   "outputs": [
    {
     "data": {
      "text/plain": [
       "2"
      ]
     },
     "execution_count": 12,
     "metadata": {},
     "output_type": "execute_result"
    }
   ],
   "source": [
    "b.ndim               # number of dimensions"
   ]
  },
  {
   "cell_type": "code",
   "execution_count": 13,
   "metadata": {},
   "outputs": [
    {
     "data": {
      "text/plain": [
       "(2, 5)"
      ]
     },
     "execution_count": 13,
     "metadata": {},
     "output_type": "execute_result"
    }
   ],
   "source": [
    "b.shape              # lengths of each dimension"
   ]
  },
  {
   "cell_type": "code",
   "execution_count": 14,
   "metadata": {},
   "outputs": [
    {
     "data": {
      "text/plain": [
       "dtype('float64')"
      ]
     },
     "execution_count": 14,
     "metadata": {},
     "output_type": "execute_result"
    }
   ],
   "source": [
    "b.dtype              # data type of array elements"
   ]
  },
  {
   "cell_type": "markdown",
   "metadata": {},
   "source": [
    "### Numpy Basic operations\n"
   ]
  },
  {
   "cell_type": "markdown",
   "metadata": {},
   "source": [
    "Numpy supports vector (and matrix) operations,like addition, subtraction, and scalar multiplication.\n",
    "\n",
    "You need to be very, very careful about manipulating arrays of different sizes. numpy typically won’t throw exceptions. Instead, it will do \"something\": that something might be very intelligent, like automatically increasing the dimensionality of the smaller array to match the larger array — but if you aren’t expecting it, the errors can be very difficult to find."
   ]
  },
  {
   "cell_type": "code",
   "execution_count": 15,
   "metadata": {},
   "outputs": [],
   "source": [
    "a1 = np.array([0,1,2,3,4])\n",
    "a2 = np.array([1,3,-2,0,4])"
   ]
  },
  {
   "cell_type": "code",
   "execution_count": 16,
   "metadata": {},
   "outputs": [
    {
     "name": "stdout",
     "output_type": "stream",
     "text": [
      "[1 4 0 3 8]\n"
     ]
    }
   ],
   "source": [
    "print(a1 + a2)                # element-wise addition (or np.add)"
   ]
  },
  {
   "cell_type": "code",
   "execution_count": 17,
   "metadata": {},
   "outputs": [
    {
     "name": "stdout",
     "output_type": "stream",
     "text": [
      "[-1 -2  4  3  0]\n"
     ]
    }
   ],
   "source": [
    "print(a1 - a2)                # element-wise subtraction (or np.subtract)"
   ]
  },
  {
   "cell_type": "code",
   "execution_count": 18,
   "metadata": {},
   "outputs": [
    {
     "name": "stdout",
     "output_type": "stream",
     "text": [
      "[ 0  3 -4  0 16]\n"
     ]
    }
   ],
   "source": [
    "print(a1 * a2)                # element-wise multiplication (or np.multiply)"
   ]
  },
  {
   "cell_type": "code",
   "execution_count": 19,
   "metadata": {},
   "outputs": [
    {
     "name": "stdout",
     "output_type": "stream",
     "text": [
      "[ 0.          0.33333333 -1.                 inf  1.        ]\n"
     ]
    },
    {
     "name": "stderr",
     "output_type": "stream",
     "text": [
      "/Users/hongzhi/opt/miniconda3/lib/python3.7/site-packages/ipykernel_launcher.py:1: RuntimeWarning: divide by zero encountered in true_divide\n",
      "  \"\"\"Entry point for launching an IPython kernel.\n"
     ]
    }
   ],
   "source": [
    "print(a1 / a2)                # element-wise division (or np.divide)"
   ]
  },
  {
   "cell_type": "markdown",
   "metadata": {},
   "source": [
    "#### Question 1\n",
    "How can we add (element-wise) arrays a and b? "
   ]
  },
  {
   "cell_type": "code",
   "execution_count": 20,
   "metadata": {},
   "outputs": [
    {
     "data": {
      "text/plain": [
       "45.0"
      ]
     },
     "execution_count": 20,
     "metadata": {},
     "output_type": "execute_result"
    }
   ],
   "source": [
    "b.sum()              # sum elements"
   ]
  },
  {
   "cell_type": "markdown",
   "metadata": {},
   "source": [
    "#### Question 2\n",
    "What do you think would be the result of comparision `b < 2`? How about `a1 = a2`?"
   ]
  },
  {
   "cell_type": "code",
   "execution_count": 21,
   "metadata": {},
   "outputs": [
    {
     "data": {
      "text/plain": [
       "array([[ True,  True, False, False, False],\n",
       "       [False, False, False, False, False]])"
      ]
     },
     "execution_count": 21,
     "metadata": {},
     "output_type": "execute_result"
    }
   ],
   "source": [
    "b < 2                   # element-wise comparison"
   ]
  },
  {
   "cell_type": "code",
   "execution_count": 22,
   "metadata": {},
   "outputs": [
    {
     "data": {
      "text/plain": [
       "array([False, False, False, False,  True])"
      ]
     },
     "execution_count": 22,
     "metadata": {},
     "output_type": "execute_result"
    }
   ],
   "source": [
    "a1 == a2                # element-wise comparison"
   ]
  },
  {
   "cell_type": "markdown",
   "metadata": {},
   "source": [
    "#### Question 3\n",
    "How can we check whether arrays have the same shape and elements?"
   ]
  },
  {
   "cell_type": "code",
   "execution_count": 23,
   "metadata": {},
   "outputs": [
    {
     "data": {
      "text/plain": [
       "False"
      ]
     },
     "execution_count": 23,
     "metadata": {},
     "output_type": "execute_result"
    }
   ],
   "source": [
    "np.array_equal(a, b)  # check whether arrays have the same shape and elements"
   ]
  },
  {
   "cell_type": "markdown",
   "metadata": {},
   "source": [
    "There are many more operations:"
   ]
  },
  {
   "cell_type": "code",
   "execution_count": 24,
   "metadata": {},
   "outputs": [
    {
     "data": {
      "text/plain": [
       "0.0"
      ]
     },
     "execution_count": 24,
     "metadata": {},
     "output_type": "execute_result"
    }
   ],
   "source": [
    "b.min()              # minimum element"
   ]
  },
  {
   "cell_type": "code",
   "execution_count": 25,
   "metadata": {},
   "outputs": [
    {
     "data": {
      "text/plain": [
       "9.0"
      ]
     },
     "execution_count": 25,
     "metadata": {},
     "output_type": "execute_result"
    }
   ],
   "source": [
    "b.max()              # maximum element"
   ]
  },
  {
   "cell_type": "code",
   "execution_count": 26,
   "metadata": {},
   "outputs": [
    {
     "data": {
      "text/plain": [
       "4.5"
      ]
     },
     "execution_count": 26,
     "metadata": {},
     "output_type": "execute_result"
    }
   ],
   "source": [
    "b.mean()             # mean of elements"
   ]
  },
  {
   "cell_type": "markdown",
   "metadata": {},
   "source": [
    "### Using Numpy arrays\n",
    "\n",
    "Numpy arrays can be indexed, sliced, and iterated over, similarly to lists. \n",
    "\n",
    "#### Exercise 1\n",
    "Write a function to calculate the **Euclidean distance** between $\\vec{a}$ and $\\vec{b}$, starting with the following code.\n",
    "\\begin{align}\n",
    "    E_d(\\vec{a},\\vec{b})= \\sqrt{\\sum_{i=1}^n (a_i-b_i)^2}\n",
    "\\end{align}"
   ]
  },
  {
   "cell_type": "code",
   "execution_count": 32,
   "metadata": {},
   "outputs": [],
   "source": [
    "def my_euclidean_dist(a,b):\n",
    "    assert len(a)==len(b), \"Arrays are of different sizes!\"\n",
    "    s = 0\n",
    "    for i in range(len(a)): \n",
    "        s += np.square(a[i]-b[i])\n",
    "    return np.sqrt(s)"
   ]
  },
  {
   "cell_type": "markdown",
   "metadata": {},
   "source": [
    "#### Exercise 2\n",
    "Use this function to calculate the eculadian Distance between `a1` and `a2`."
   ]
  },
  {
   "cell_type": "code",
   "execution_count": 33,
   "metadata": {},
   "outputs": [
    {
     "name": "stdout",
     "output_type": "stream",
     "text": [
      "5.477225575051661\n"
     ]
    }
   ],
   "source": [
    "print(my_euclidean_dist(a1,a2))"
   ]
  },
  {
   "cell_type": "markdown",
   "metadata": {},
   "source": [
    "### Numpy and Matrices\n",
    "\n",
    "Matrices can be made in numpy by wrapping a list of lists. For example the matrices M and N can be modeled in Numpy by using the following code.\n",
    "\n",
    "\\begin{align}\n",
    "    \\mathbf{M} = \\begin{pmatrix} \n",
    "        1 & 2 & 3 \\\\ 4 & 2 & 1 \\\\ 6 & 2 & 0 \n",
    "    \\end{pmatrix} \n",
    "    \\quad \\text{and} \\quad \n",
    "    \\mathbf{N} = \\begin{pmatrix} \n",
    "        0 & 3 & 1 \\\\ 1 & 1 & 4 \\\\ 2 & 0 & 3 \n",
    "    \\end{pmatrix}\n",
    "\\end{align}"
   ]
  },
  {
   "cell_type": "code",
   "execution_count": 34,
   "metadata": {},
   "outputs": [],
   "source": [
    "M = np.array([[1,2,3],[4,2,1],[6,2,0]])\n",
    "N = np.array([[0,3,1],[1,1,4],[2,0,3]])"
   ]
  },
  {
   "cell_type": "markdown",
   "metadata": {},
   "source": [
    "You can use Numpy to perform all kind of **Linear Algebra** operations on these matrices. Such as:"
   ]
  },
  {
   "cell_type": "code",
   "execution_count": 35,
   "metadata": {},
   "outputs": [
    {
     "data": {
      "text/plain": [
       "array([[1, 4, 6],\n",
       "       [2, 2, 2],\n",
       "       [3, 1, 0]])"
      ]
     },
     "execution_count": 35,
     "metadata": {},
     "output_type": "execute_result"
    }
   ],
   "source": [
    "np.transpose(M)                    # reverse the Matrix M"
   ]
  },
  {
   "cell_type": "code",
   "execution_count": 36,
   "metadata": {},
   "outputs": [
    {
     "data": {
      "text/plain": [
       "array([[ 8,  5, 18],\n",
       "       [ 4, 14, 15],\n",
       "       [ 2, 20, 14]])"
      ]
     },
     "execution_count": 36,
     "metadata": {},
     "output_type": "execute_result"
    }
   ],
   "source": [
    "np.dot(M,N)                        # Calculate the dot product of M and N"
   ]
  },
  {
   "cell_type": "code",
   "execution_count": 37,
   "metadata": {},
   "outputs": [
    {
     "data": {
      "text/plain": [
       "array([[ 1. , -3. ,  2. ],\n",
       "       [-3. ,  9. , -5.5],\n",
       "       [ 2. , -5. ,  3. ]])"
      ]
     },
     "execution_count": 37,
     "metadata": {},
     "output_type": "execute_result"
    }
   ],
   "source": [
    "np.linalg.inv(M)                   # matrix inverse"
   ]
  },
  {
   "cell_type": "code",
   "execution_count": 38,
   "metadata": {},
   "outputs": [
    {
     "data": {
      "text/plain": [
       "array([[1., 0., 0.],\n",
       "       [0., 1., 0.],\n",
       "       [0., 0., 1.]])"
      ]
     },
     "execution_count": 38,
     "metadata": {},
     "output_type": "execute_result"
    }
   ],
   "source": [
    "np.eye(3)                          # identity matrix"
   ]
  },
  {
   "cell_type": "markdown",
   "metadata": {},
   "source": [
    "#### Exercise 3\n",
    "Write a short script to compare:\n",
    "1. M * N and np.dot(M, N)\n",
    "2. N * M and np.dot(N, M)\n",
    "3. M * M and M**2 and np.dot(M, M)"
   ]
  },
  {
   "cell_type": "code",
   "execution_count": 39,
   "metadata": {},
   "outputs": [
    {
     "name": "stdout",
     "output_type": "stream",
     "text": [
      "M*N [[ 0  6  3]\n",
      " [ 4  2  4]\n",
      " [12  0  0]]\n",
      "M.N [[ 8  5 18]\n",
      " [ 4 14 15]\n",
      " [ 2 20 14]]\n",
      "N*M [[ 0  6  3]\n",
      " [ 4  2  4]\n",
      " [12  0  0]]\n",
      "N.M [[18  8  3]\n",
      " [29 12  4]\n",
      " [20 10  6]]\n",
      "M*M [[ 1  4  9]\n",
      " [16  4  1]\n",
      " [36  4  0]]\n",
      "M**2 [[ 1  4  9]\n",
      " [16  4  1]\n",
      " [36  4  0]]\n",
      "M.M [[27 12  5]\n",
      " [18 14 14]\n",
      " [14 16 20]]\n"
     ]
    }
   ],
   "source": [
    "print(\"M*N\",M*N)\n",
    "print(\"M.N\",np.dot(M, N))\n",
    "print(\"N*M\",N*M)\n",
    "print(\"N.M\",np.dot(N, M))\n",
    "print(\"M*M\",M*M)\n",
    "print(\"M**2\",M**2)\n",
    "print(\"M.M\",np.dot(M, M))"
   ]
  },
  {
   "cell_type": "markdown",
   "metadata": {},
   "source": [
    "## Getting Help\n",
    "Confused about a particular function / method? Putting a question mark `<?>` after the object in question will return the docstring."
   ]
  },
  {
   "cell_type": "code",
   "execution_count": 40,
   "metadata": {
    "scrolled": true
   },
   "outputs": [],
   "source": [
    "np.random.normal?"
   ]
  },
  {
   "cell_type": "markdown",
   "metadata": {},
   "source": [
    "## Interrupting/restarting the kernel"
   ]
  },
  {
   "cell_type": "markdown",
   "metadata": {},
   "source": [
    "Code is run in the kernel process. You can interrupt the kernel by pressing the stop button <button class='btn btn-default btn-xs'><i class='icon-stop fa fa-stop'></i></button> in the toolbar. Try it out below."
   ]
  },
  {
   "cell_type": "code",
   "execution_count": 42,
   "metadata": {},
   "outputs": [],
   "source": [
    "import time\n",
    "time.sleep(10)"
   ]
  },
  {
   "cell_type": "markdown",
   "metadata": {},
   "source": [
    "Occassionally you may want to restart the kernel (e.g. to clear the namespace). You can do this by pressing the <button class='btn btn-default btn-xs'><i class='icon-epeat fa fa-repeat'></i></button> button in the toolbar. You can find more options under the _Kernel_ menu."
   ]
  }
 ],
 "metadata": {
  "kernelspec": {
   "display_name": "Python 3",
   "language": "python",
   "name": "python3"
  },
  "language_info": {
   "codemirror_mode": {
    "name": "ipython",
    "version": 3
   },
   "file_extension": ".py",
   "mimetype": "text/x-python",
   "name": "python",
   "nbconvert_exporter": "python",
   "pygments_lexer": "ipython3",
   "version": "3.7.7"
  }
 },
 "nbformat": 4,
 "nbformat_minor": 4
}
